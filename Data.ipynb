# Import necessary libraries
import pandas as pd
import matplotlib.pyplot as plt
import seaborn as sns
import csv

# Load the IPL dataset

df = pd.read_csv('IPL_Cricket_Project.csv', on_bad_lines='skip')
# Display the first few rows of the dataset
df.head()
