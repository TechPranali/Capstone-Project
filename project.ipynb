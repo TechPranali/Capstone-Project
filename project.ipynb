{
 "cells": [
  {
   "cell_type": "markdown",
   "metadata": {},
   "source": [
    "### Project: IPL Cricket Data Analysis\n",
    "### Author: Pranali Baban Dhobale\n"
   ]
  },
  {
   "cell_type": "markdown",
   "metadata": {},
   "source": [
    "### Outline of the Project\n",
    "```\n",
    "1. Data Collection\n",
    "2. Data Cleaning\n",
    "3. Exploratory Data Analysis (EDA)\n",
    "4. Summary of Key Findings\n",
    "```"
   ]
  },
  {
   "cell_type": "markdown",
   "metadata": {},
   "source": [
    "### 1. Data Collection"
   ]
  },
  {
   "cell_type": "code",
   "execution_count": null,
   "metadata": {},
   "outputs": [],
   "source": [
    "import pandas as pd\n",
    "import matplotlib.pyplot as plt\n",
    "import seaborn as sns\n",
    "\n",
    "sns.set(style=\"darkgrid\")  # Set Seaborn style for plots\n",
    "\n",
    "# Load the Dataset\n",
    "data = pd.read_csv('IPL_Complete_Dataset_2008_2020.csv')\n",
    "\n",
    "# Display the first few rows of the dataset\n",
    "data.head()"
   ]
  },
  {
   "cell_type": "markdown",
   "metadata": {},
   "source": [
    "### 2. Data Cleaning"
   ]
  },
  {
   "cell_type": "code",
   "execution_count": null,
   "metadata": {},
   "outputs": [],
   "source": [
    "# Basic Dataset Information\n",
    "print(\"Dataset Shape:\", data.shape)\n",
    "data.info()\n",
    "\n",
    "# Check for missing values\n",
    "missing_values = data.isnull().sum()\n",
    "print(\"\\nMissing Values:\\n\", missing_values)\n",
    "\n",
    "# Drop columns with more than 20% missing data\n",
    "threshold = 0.2\n",
    "data_cleaned = data.loc[:, data.isnull().mean() < threshold]\n",
    "\n",
    "# Fill missing values for numeric columns (example: median)\n",
    "data_cleaned['win_by_runs'].fillna(data_cleaned['win_by_runs'].median(), inplace=True)\n",
    "data_cleaned['win_by_wickets'].fillna(data_cleaned['win_by_wickets'].median(), inplace=True)\n",
    "\n",
    "# Remove duplicates\n",
    "data_cleaned = data_cleaned.drop_duplicates()\n",
    "\n",
    "# Display cleaned data\n",
    "data_cleaned.head()"
   ]
  },
  {
   "cell_type": "markdown",
   "metadata": {},
   "source": [
    "### 3. Exploratory Data Analysis (EDA)"
   ]
  },
  {
   "cell_type": "code",
   "execution_count": null,
   "metadata": {},
   "outputs": [],
   "source": [
    "# 1. Distribution of Matches by Season\n",
    "season_counts = data_cleaned['season'].value_counts().sort_index()\n",
    "\n",
    "plt.figure(figsize=(10, 6))\n",
    "sns.barplot(x=season_counts.index, y=season_counts.values, palette='viridis')\n",
    "plt.title('Number of Matches per Season')\n",
    "plt.xlabel('Season')\n",
    "plt.ylabel('Number of Matches')\n",
    "plt.xticks(rotation=45)\n",
    "plt.show()"
   ]
  },
  {
   "cell_type": "code",
   "execution_count": null,
   "metadata": {},
   "outputs": [],
   "source": [
    "# 2. Most Successful Teams\n",
    "team_wins = data_cleaned['winner'].value_counts()\n",
    "\n",
    "plt.figure(figsize=(10, 6))\n",
    "sns.barplot(y=team_wins.index, x=team_wins.values, palette='plasma')\n",
    "plt.title('Most Successful Teams')\n",
    "plt.xlabel('Number of Wins')\n",
    "plt.ylabel('Team')\n",
    "plt.show()"
   ]
  },
  {
   "cell_type": "code",
   "execution_count": null,
   "metadata": {},
   "outputs": [],
   "source": [
    "# 3. Toss Decision Analysis\n",
    "toss_decision_counts = data_cleaned['toss_decision'].value_counts()\n",
    "\n",
    "plt.figure(figsize=(6, 6))\n",
    "plt.pie(toss_decision_counts, labels=toss_decision_counts.index, autopct='%1.1f%%', startangle=140)\n",
    "plt.title('Toss Decision Distribution')\n",
    "plt.show()"
   ]
  },
  {
   "cell_type": "code",
   "execution_count": null,
   "metadata": {},
   "outputs": [],
   "source": [
    "# 4. Player of the Match Analysis\n",
    "top_players = data_cleaned['player_of_match'].value_counts().head(10)\n",
    "\n",
    "plt.figure(figsize=(10, 6))\n",
    "sns.barplot(y=top_players.index, x=top_players.values, palette='magma')\n",
    "plt.title('Top 10 Players with Most Player of the Match Awards')\n",
    "plt.xlabel('Number of Awards')\n",
    "plt.ylabel('Player')\n",
    "plt.show()"
   ]
  },
  {
   "cell_type": "markdown",
   "metadata": {},
   "source": [
    "### 4. Summary of Key Findings"
   ]
  },
  {
   "cell_type": "code",
   "execution_count": null,
   "metadata": {},
   "outputs": [],
   "source": [
    "print(\"Key Insights from the IPL Data Analysis:\")\n",
    "print(\"1. Distribution of matches across seasons shows a steady increase/decrease.\")\n",
    "print(\"2. Teams with the highest number of wins include:\", team_wins.index[0], \"and others.\")\n",
    "print(\"3. Toss decisions indicate most teams prefer to\", toss_decision_counts.idxmax(), \"upon winning the toss.\")\n",
    "print(\"4. The player with the most 'Player of the Match' awards is:\", top_players.index[0])"
   ]
  }
 ],
 "metadata": {
  "kernelspec": {
   "display_name": "Python 3",
   "language": "python",
   "name": "python3"
  },
  "language_info": {
   "codemirror_mode": {
    "name": "ipython",
    "version": 3
   },
   "file_extension": ".py",
   "mimetype": "text/x-python",
   "name": "python",
   "nbconvert_exporter": "python",
   "pygments_lexer": "ipython3",
   "version": "3.8"
  }
 },
 "nbformat": 4,
 "nbformat_minor": 2
}
